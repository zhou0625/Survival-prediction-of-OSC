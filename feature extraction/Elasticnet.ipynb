{
 "cells": [
  {
   "cell_type": "code",
   "execution_count": null,
   "id": "c77d2ea8",
   "metadata": {},
   "outputs": [],
   "source": [
    "import numpy as np\n",
    "import pandas as pd\n",
    "import matplotlib.pyplot as plt\n",
    "from sklearn.linear_model import ElasticNetCV\n",
    "from sklearn import preprocessing"
   ]
  },
  {
   "cell_type": "code",
   "execution_count": null,
   "id": "22152ac5",
   "metadata": {},
   "outputs": [],
   "source": [
    "data = pd.read_csv('clinical2.csv')\n",
    "X= data.drop('label',axis=1)\n",
    "y = data['label']"
   ]
  },
  {
   "cell_type": "code",
   "execution_count": null,
   "id": "f0c77f83",
   "metadata": {},
   "outputs": [],
   "source": [
    "X /= X.std(axis=0)  # Standardize data (easier to set the l1_ratio parameter)"
   ]
  },
  {
   "cell_type": "code",
   "execution_count": null,
   "id": "eb2d8e79",
   "metadata": {},
   "outputs": [],
   "source": [
    "alpharange = np.logspace(-10,-1,200,base=10) "
   ]
  },
  {
   "cell_type": "code",
   "execution_count": null,
   "id": "0c9ebda9",
   "metadata": {},
   "outputs": [],
   "source": [
    "model_eNetcv =  ElasticNetCV(l1_ratio=0.5,alphas=alpharange,max_iter=10000,cv = 5).fit(X,y)"
   ]
  },
  {
   "cell_type": "code",
   "execution_count": null,
   "id": "a62bfb0a",
   "metadata": {},
   "outputs": [],
   "source": [
    "model_eNetcv.alpha_"
   ]
  },
  {
   "cell_type": "code",
   "execution_count": null,
   "id": "4f78f9e0",
   "metadata": {},
   "outputs": [],
   "source": [
    "(model_eNetcv.coef_*100).tolist()"
   ]
  },
  {
   "cell_type": "code",
   "execution_count": null,
   "id": "8fd666b1",
   "metadata": {},
   "outputs": [],
   "source": [
    "features_eNetcv =(model_eNetcv.coef_*100).tolist()"
   ]
  },
  {
   "cell_type": "code",
   "execution_count": null,
   "id": "d80bee32",
   "metadata": {},
   "outputs": [],
   "source": [
    "data_eNet = []\n",
    "for i in features_eNetcv:\n",
    "    if i != 0:\n",
    "        data_eNet.append(features_eNetcv.index(i))"
   ]
  },
  {
   "cell_type": "code",
   "execution_count": null,
   "id": "f8dd60f6",
   "metadata": {},
   "outputs": [],
   "source": [
    "data_eNet"
   ]
  },
  {
   "cell_type": "code",
   "execution_count": null,
   "id": "87aad628",
   "metadata": {},
   "outputs": [],
   "source": []
  },
  {
   "cell_type": "code",
   "execution_count": null,
   "id": "7f8b6d37",
   "metadata": {},
   "outputs": [],
   "source": []
  }
 ],
 "metadata": {
  "kernelspec": {
   "display_name": "sklearn",
   "language": "python",
   "name": "sklearn"
  },
  "language_info": {
   "codemirror_mode": {
    "name": "ipython",
    "version": 3
   },
   "file_extension": ".py",
   "mimetype": "text/x-python",
   "name": "python",
   "nbconvert_exporter": "python",
   "pygments_lexer": "ipython3",
   "version": "3.9.12"
  }
 },
 "nbformat": 4,
 "nbformat_minor": 5
}
